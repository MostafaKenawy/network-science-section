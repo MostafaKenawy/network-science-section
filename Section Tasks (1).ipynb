{
 "cells": [
  {
   "cell_type": "code",
   "execution_count": 1,
   "id": "5b18d86a",
   "metadata": {},
   "outputs": [
    {
     "name": "stdout",
     "output_type": "stream",
     "text": [
      "Hi, Mustafa\n",
      "your age is: 23\n"
     ]
    }
   ],
   "source": [
    "# Mustafa Anwer Mohamed Kenawy - section 5\n",
    "myName = 'Mustafa'\n",
    "myAge = 23\n",
    "\n",
    "print('Hi,',myName)\n",
    "print('your age is:',myAge)"
   ]
  },
  {
   "cell_type": "code",
   "execution_count": 2,
   "id": "d4a324ee",
   "metadata": {},
   "outputs": [
    {
     "data": {
      "text/plain": [
       "'Mustafa'"
      ]
     },
     "execution_count": 2,
     "metadata": {},
     "output_type": "execute_result"
    }
   ],
   "source": [
    "myName #we can call variable"
   ]
  },
  {
   "cell_type": "code",
   "execution_count": 3,
   "id": "9febfad1",
   "metadata": {},
   "outputs": [
    {
     "name": "stdout",
     "output_type": "stream",
     "text": [
      "Welcome, you can apply\n"
     ]
    }
   ],
   "source": [
    "#conditions....if statment\n",
    "if myAge < 18 :\n",
    "    print(\"you arn't allow to apply in this job\")\n",
    "elif myAge >= 18 and myAge <= 22 :\n",
    "    print(\"you arn't allow to apply in this job But you can have Intership\")\n",
    "else :\n",
    "    print(\"Welcome, you can apply\")"
   ]
  },
  {
   "cell_type": "code",
   "execution_count": 4,
   "id": "b2558456",
   "metadata": {},
   "outputs": [
    {
     "name": "stdout",
     "output_type": "stream",
     "text": [
      "Mustafa\n",
      "Omar\n",
      "Abdallah\n",
      "['Mustafa', 'Omar', 'Mahmoud']\n",
      "['Mustafa', 'Omar']\n",
      "['Mahmoud', 'Mina', 'Abdallah']\n",
      "Adnan\n",
      "list: ['Mustafa', 'Omar', 'Hossam', 'Mahmoud', 'Mina', 'Abdallah', 'Adnan']\n",
      "list: ['Mustafa', 'Omar', 'Mahmoud', 'Mina', 'Abdallah', 'Adnan']\n"
     ]
    }
   ],
   "source": [
    "# ordered list\n",
    "friends = ['Mustafa','Omar','Mahmoud','Mina','Abdallah']\n",
    "# note we can use indexer\n",
    "print(friends[0])\n",
    "print(friends[1])\n",
    "print(friends[-1])\n",
    "#we can select range\n",
    "print(friends[0:3])\n",
    "print(friends[:2])\n",
    "print(friends[2:])\n",
    "#we can add item to list via .append()\n",
    "friends.append('Adnan')\n",
    "print(friends[-1])\n",
    "#we can add in spacific index/position using insert()\n",
    "friends.insert(2, 'Hossam')\n",
    "print('list:',friends)\n",
    "#delete via del key word\n",
    "del friends[2]\n",
    "print('list:',friends)"
   ]
  },
  {
   "cell_type": "code",
   "execution_count": 5,
   "id": "c1149b35",
   "metadata": {},
   "outputs": [
    {
     "name": "stdout",
     "output_type": "stream",
     "text": [
      "Hello Mustafa!\n",
      "Hello Omar!\n",
      "Hello Mahmoud!\n",
      "Hello Mina!\n",
      "Hello Abdallah!\n",
      "Hello Adnan!\n",
      "Now we will print name for a friend whose name length more than 4\n",
      "Mustafa name length more than 4\n",
      "Mahmoud name length more than 4\n",
      "Abdallah name length more than 4\n",
      "Adnan name length more than 4\n",
      "Mustafa\n",
      "1\n",
      "2\n",
      "Omar\n",
      "1\n",
      "2\n",
      "Mahmoud\n",
      "1\n",
      "2\n",
      "Mina\n",
      "1\n",
      "2\n",
      "Abdallah\n",
      "1\n",
      "2\n",
      "Adnan\n",
      "1\n",
      "2\n"
     ]
    }
   ],
   "source": [
    "#loops...Syntax\n",
    "#for itemName in collection:\n",
    "#    loop body.\n",
    "for friend_name in friends:\n",
    "    print('Hello ' + friend_name + '!')\n",
    "\n",
    "# to get length of string using len()\n",
    "print('Now we will print name for a friend whose name length more than 4')\n",
    "for friend_name in friends:\n",
    "    if len(friend_name) > 4:\n",
    "        print(friend_name+' name length more than 4')\n",
    "\n",
    "#Nested loops\n",
    "for friend_name in friends:\n",
    "    print(friend_name)\n",
    "    for item in range(1,3):\n",
    "        print(item)"
   ]
  },
  {
   "cell_type": "code",
   "execution_count": 6,
   "id": "67bda8a2",
   "metadata": {},
   "outputs": [
    {
     "name": "stdout",
     "output_type": "stream",
     "text": [
      "Arabic\n"
     ]
    }
   ],
   "source": [
    "#tuble\n",
    "myLanguages = ('Arabic', 'English')\n",
    "#we can use indexer\n",
    "print(myLanguages[0])"
   ]
  },
  {
   "cell_type": "code",
   "execution_count": 7,
   "id": "8440419e",
   "metadata": {},
   "outputs": [
    {
     "name": "stdout",
     "output_type": "stream",
     "text": [
      "Alice\n",
      "Spanish\n",
      "A-\n"
     ]
    }
   ],
   "source": [
    "#Tuples' immutability makes them useful for unpacking\n",
    "student_grade = ('Alice', 'Spanish', 'A-')\n",
    "student_name, subject, grade = student_grade\n",
    "\n",
    "print(student_name)\n",
    "print(subject)\n",
    "print(grade)"
   ]
  },
  {
   "cell_type": "code",
   "execution_count": 8,
   "id": "cffdc8b6",
   "metadata": {},
   "outputs": [
    {
     "name": "stdout",
     "output_type": "stream",
     "text": [
      "Congratulations Alice on getting an A in Spanish\n",
      "Congratulations Dave on getting an A- in Italian\n"
     ]
    }
   ],
   "source": [
    "student_grades = [\n",
    "    ('Alice', 'Spanish', 'A'),\n",
    "    ('Bob', 'French', 'C'),\n",
    "    ('Carol', 'Italian', 'B+'),\n",
    "    ('Dave', 'Italian', 'A-'),\n",
    "]\n",
    "\n",
    "for student_name, subject, grade in student_grades:\n",
    "    if grade.startswith('A'):\n",
    "        print('Congratulations', student_name,\n",
    "              'on getting an', grade,\n",
    "              'in', subject)"
   ]
  },
  {
   "cell_type": "code",
   "execution_count": 9,
   "id": "4456ec6f",
   "metadata": {},
   "outputs": [],
   "source": [
    "#unordered list`Dictionary` key:value\n",
    "foreign_languages = {\n",
    "    'Alice': 'Spanish',\n",
    "    'Bob': 'French',\n",
    "    'Carol': 'Italian',\n",
    "    'Dave': 'Italian',\n",
    "}"
   ]
  },
  {
   "cell_type": "code",
   "execution_count": 10,
   "id": "0bf1860b",
   "metadata": {},
   "outputs": [
    {
     "data": {
      "text/plain": [
       "'Italian'"
      ]
     },
     "execution_count": 10,
     "metadata": {},
     "output_type": "execute_result"
    }
   ],
   "source": [
    "foreign_languages['Carol']#access element using key"
   ]
  },
  {
   "cell_type": "code",
   "execution_count": 11,
   "id": "31114437",
   "metadata": {},
   "outputs": [
    {
     "name": "stdout",
     "output_type": "stream",
     "text": [
      "False\n",
      "not founded\n"
     ]
    }
   ],
   "source": [
    "# to chick if item in list use in keyword look and learn\n",
    "print('Zeke' in foreign_languages)\n",
    "if 'Zeke' in foreign_languages :\n",
    "    print('founded')\n",
    "else:\n",
    "    print('not founded')"
   ]
  },
  {
   "cell_type": "code",
   "execution_count": 12,
   "id": "5f77ca0c",
   "metadata": {},
   "outputs": [
    {
     "name": "stdout",
     "output_type": "stream",
     "text": [
      "{'Alice': 'Spanish', 'Bob': 'French', 'Carol': 'Italian', 'Dave': 'Italian', 'Esther': 'French'}\n",
      "{'Alice': 'Spanish', 'Carol': 'Italian', 'Dave': 'Italian', 'Esther': 'French'}\n",
      "{'Alice': 'Spanish', 'Carol': 'Italian', 'Dave': 'Italian', 'Esther': 'Italian'}\n"
     ]
    }
   ],
   "source": [
    "#We can add, delete, and change entries in a dictionary\n",
    "foreign_languages['Esther'] = 'French'\n",
    "print(foreign_languages)\n",
    "del foreign_languages['Bob']\n",
    "print(foreign_languages)\n",
    "foreign_languages['Esther'] = 'Italian'\n",
    "print(foreign_languages)"
   ]
  },
  {
   "cell_type": "code",
   "execution_count": 13,
   "id": "640b713f",
   "metadata": {},
   "outputs": [
    {
     "name": "stdout",
     "output_type": "stream",
     "text": [
      "Alice is taking Spanish\n",
      "Carol is taking Italian\n",
      "Dave is taking Italian\n",
      "Esther is taking Italian\n"
     ]
    }
   ],
   "source": [
    "for key, value in foreign_languages.items():\n",
    "    print(key, 'is taking', value)"
   ]
  },
  {
   "cell_type": "code",
   "execution_count": 14,
   "id": "319e2cdb",
   "metadata": {},
   "outputs": [
    {
     "name": "stdout",
     "output_type": "stream",
     "text": [
      "Alice got a grade of A in Spanish\n",
      "Alice got a grade of A in Spanish\n"
     ]
    }
   ],
   "source": [
    "#we can deal with Dictionaries as records look and learn\n",
    "student_grade = ('Alice', 'Spanish', 'A')\n",
    "student_name, subject, grade = student_grades[0]\n",
    "print(student_name, 'got a grade of', grade, 'in', subject)\n",
    "record = {\n",
    "    'name': 'Alice',\n",
    "    'subject': 'Spanish',\n",
    "    'grade': 'A',\n",
    "}\n",
    "print(record['name'],\n",
    "      'got a grade of', record['grade'],\n",
    "      'in', record['subject'])"
   ]
  },
  {
   "cell_type": "code",
   "execution_count": 15,
   "id": "8c3f78d9",
   "metadata": {},
   "outputs": [
    {
     "name": "stdout",
     "output_type": "stream",
     "text": [
      "('Bob', 'French', 'C')\n",
      "C\n"
     ]
    }
   ],
   "source": [
    "#List of tuples\n",
    "student_grades = [\n",
    "    ('Alice', 'Spanish', 'A'),\n",
    "    ('Bob', 'French', 'C'),\n",
    "    ('Carol', 'Italian', 'B+'),\n",
    "    ('Dave', 'Italian', 'A-'),\n",
    "]\n",
    "print(student_grades[1])\n",
    "print(student_grades[1][2])"
   ]
  },
  {
   "cell_type": "code",
   "execution_count": 16,
   "id": "ba6f3760",
   "metadata": {},
   "outputs": [
    {
     "name": "stdout",
     "output_type": "stream",
     "text": [
      "[{'name': 'Alice', 'subject': 'Spanish', 'grade': 'A'}, {'name': 'Bob', 'subject': 'French', 'grade': 'C'}, {'name': 'Carol', 'subject': 'Italian', 'grade': 'B+'}, {'name': 'Dave', 'subject': 'Italian', 'grade': 'A-'}]\n",
      "{'name': 'Bob', 'subject': 'French', 'grade': 'C'}\n",
      "C\n"
     ]
    }
   ],
   "source": [
    "#List of dictionaries\n",
    "student_grade_records = []\n",
    "for student_name, subject, grade in student_grades:\n",
    "    record = {\n",
    "        'name': student_name,\n",
    "        'subject': subject,\n",
    "        'grade': grade,\n",
    "    }\n",
    "    student_grade_records.append(record)\n",
    "    \n",
    "print(student_grade_records)\n",
    "print(student_grade_records[1])\n",
    "print(student_grade_records[1]['grade'])"
   ]
  },
  {
   "cell_type": "code",
   "execution_count": 17,
   "id": "be75adfe",
   "metadata": {},
   "outputs": [
    {
     "name": "stdout",
     "output_type": "stream",
     "text": [
      "{'Alice': {'subject': 'Spanish', 'grade': 'A'}, 'Bob': {'subject': 'French', 'grade': 'C'}, 'Carol': {'subject': 'Italian', 'grade': 'B+'}, 'Dave': {'subject': 'Italian', 'grade': 'A-'}}\n",
      "{'subject': 'Spanish', 'grade': 'A'}\n",
      "Spanish\n"
     ]
    }
   ],
   "source": [
    "#Dictionary of dictionaries\n",
    "foreign_language_grades = {}\n",
    "for student_name, subject, grade in student_grades:\n",
    "    record = {\n",
    "        'subject': subject,\n",
    "        'grade': grade,\n",
    "    }\n",
    "    foreign_language_grades[student_name] = record\n",
    "    \n",
    "print(foreign_language_grades)\n",
    "print(foreign_language_grades['Alice'])\n",
    "print(foreign_language_grades['Alice']['subject'])"
   ]
  },
  {
   "cell_type": "code",
   "execution_count": 18,
   "id": "d3f3e732",
   "metadata": {},
   "outputs": [
    {
     "name": "stdout",
     "output_type": "stream",
     "text": [
      "number : 1  it's frq  3\n",
      "number : 2  it's frq  2\n",
      "number : 3  it's frq  3\n",
      "number : 4  it's frq  1\n",
      "number : 6  it's frq  1\n",
      "number : 7  it's frq  1\n",
      "number : 8  it's frq  1\n",
      "number : 5  it's frq  1\n"
     ]
    }
   ],
   "source": [
    "# My practice for pravious - frquencey arr\n",
    "arr = [1,2,3,4,1,2,3,6,7,8,5,3,1];\n",
    "frq = {}\n",
    "for num in arr:\n",
    "    if num in frq:\n",
    "        frq[num] += 1\n",
    "    else:\n",
    "        frq[num] = 1\n",
    "\n",
    "for key, value in frq.items():\n",
    "    print('number :',key, \" it's frq \", value)"
   ]
  }
 ],
 "metadata": {
  "kernelspec": {
   "display_name": "Python 3 (ipykernel)",
   "language": "python",
   "name": "python3"
  },
  "language_info": {
   "codemirror_mode": {
    "name": "ipython",
    "version": 3
   },
   "file_extension": ".py",
   "mimetype": "text/x-python",
   "name": "python",
   "nbconvert_exporter": "python",
   "pygments_lexer": "ipython3",
   "version": "3.9.7"
  }
 },
 "nbformat": 4,
 "nbformat_minor": 5
}
