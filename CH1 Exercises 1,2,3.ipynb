{
 "cells": [
  {
   "cell_type": "code",
   "execution_count": 1,
   "id": "ecd55589",
   "metadata": {},
   "outputs": [],
   "source": [
    "import networkx as nx\n",
    "%matplotlib inline"
   ]
  },
  {
   "cell_type": "code",
   "execution_count": 2,
   "id": "d8c804a5",
   "metadata": {},
   "outputs": [],
   "source": [
    "#create object from Graph to build indirect graph\n",
    "g = nx.Graph()"
   ]
  },
  {
   "cell_type": "code",
   "execution_count": 3,
   "id": "2d4c73cd",
   "metadata": {},
   "outputs": [],
   "source": [
    "# To add single node\n",
    "g.add_node('a') "
   ]
  },
  {
   "cell_type": "code",
   "execution_count": 4,
   "id": "f5781dcc",
   "metadata": {},
   "outputs": [],
   "source": [
    "list_of_nodes = ['b','b','c','d','s']"
   ]
  },
  {
   "cell_type": "code",
   "execution_count": 5,
   "id": "2d65787b",
   "metadata": {},
   "outputs": [],
   "source": [
    "g.add_nodes_from(list_of_nodes)"
   ]
  },
  {
   "cell_type": "code",
   "execution_count": 6,
   "id": "b4cebfa4",
   "metadata": {},
   "outputs": [],
   "source": [
    "g.add_edge('a','c')"
   ]
  },
  {
   "cell_type": "code",
   "execution_count": 7,
   "id": "9d9aef62",
   "metadata": {},
   "outputs": [],
   "source": [
    "edges = [('a','d'),('c','b'),('a','b'),('c','d'),('d','b'),('a','s'),('b','s'),('c','s'),('d','s')]"
   ]
  },
  {
   "cell_type": "code",
   "execution_count": 8,
   "id": "9d0bd6c8",
   "metadata": {},
   "outputs": [],
   "source": [
    "g.add_edges_from(edges)"
   ]
  },
  {
   "cell_type": "code",
   "execution_count": 9,
   "id": "fd011c65",
   "metadata": {
    "scrolled": true
   },
   "outputs": [
    {
     "data": {
      "image/png": "[encoded data removed]",
      "text/plain": [
       "<Figure size 432x288 with 1 Axes>"
      ]
     },
     "metadata": {},
     "output_type": "display_data"
    }
   ],
   "source": [
    "#nx.draw(graph object,with_labels=true->yes|false->no,node_color='color name',node_size=number refer font size,font_color='color name)\n",
    "nx.draw(g,with_labels=True,node_color='red',node_size=1000,font_color='white')"
   ]
  },
  {
   "cell_type": "code",
   "execution_count": 10,
   "id": "3e53b683",
   "metadata": {},
   "outputs": [
    {
     "data": {
      "text/plain": [
       "NodeView(('a', 'b', 'c', 'd', 's'))"
      ]
     },
     "execution_count": 10,
     "metadata": {},
     "output_type": "execute_result"
    }
   ],
   "source": [
    "#to get graph nodes\n",
    "g.nodes()"
   ]
  },
  {
   "cell_type": "code",
   "execution_count": 11,
   "id": "cada568d",
   "metadata": {},
   "outputs": [
    {
     "data": {
      "text/plain": [
       "EdgeView([('a', 'c'), ('a', 'd'), ('a', 'b'), ('a', 's'), ('b', 'c'), ('b', 'd'), ('b', 's'), ('c', 'd'), ('c', 's'), ('d', 's')])"
      ]
     },
     "execution_count": 11,
     "metadata": {},
     "output_type": "execute_result"
    }
   ],
   "source": [
    "# to get all of the edges\n",
    "g.edges()"
   ]
  },
  {
   "cell_type": "code",
   "execution_count": 12,
   "id": "997c83bd",
   "metadata": {},
   "outputs": [
    {
     "name": "stdout",
     "output_type": "stream",
     "text": [
      "a\n",
      "b\n",
      "c\n",
      "d\n",
      "s\n"
     ]
    }
   ],
   "source": [
    "for n in g.nodes:\n",
    "    print(n)"
   ]
  },
  {
   "cell_type": "code",
   "execution_count": 13,
   "id": "378c44fe",
   "metadata": {},
   "outputs": [
    {
     "name": "stdout",
     "output_type": "stream",
     "text": [
      "a\n",
      "a\n",
      "a\n",
      "a\n",
      "b\n",
      "b\n",
      "b\n",
      "c\n",
      "c\n",
      "d\n"
     ]
    }
   ],
   "source": [
    "for e in g.edges:\n",
    "    print(e[0])"
   ]
  },
  {
   "cell_type": "code",
   "execution_count": 14,
   "id": "72f6871b",
   "metadata": {},
   "outputs": [
    {
     "name": "stdout",
     "output_type": "stream",
     "text": [
      "('a', 'c')\n",
      "('a', 'd')\n",
      "('a', 'b')\n",
      "('a', 's')\n",
      "('b', 'c')\n",
      "('b', 'd')\n",
      "('b', 's')\n",
      "('c', 'd')\n",
      "('c', 's')\n",
      "('d', 's')\n"
     ]
    }
   ],
   "source": [
    "for e in g.edges:\n",
    "    print(e)"
   ]
  },
  {
   "cell_type": "code",
   "execution_count": 15,
   "id": "6a86545d",
   "metadata": {},
   "outputs": [
    {
     "data": {
      "text/plain": [
       "5"
      ]
     },
     "execution_count": 15,
     "metadata": {},
     "output_type": "execute_result"
    }
   ],
   "source": [
    "g.number_of_nodes()"
   ]
  },
  {
   "cell_type": "code",
   "execution_count": 16,
   "id": "c2a0b05a",
   "metadata": {},
   "outputs": [
    {
     "data": {
      "text/plain": [
       "10"
      ]
     },
     "execution_count": 16,
     "metadata": {},
     "output_type": "execute_result"
    }
   ],
   "source": [
    "g.number_of_edges()"
   ]
  },
  {
   "cell_type": "code",
   "execution_count": 17,
   "id": "164449a9",
   "metadata": {},
   "outputs": [
    {
     "name": "stdout",
     "output_type": "stream",
     "text": [
      "--------------------------- a\n",
      "c\n",
      "d\n",
      "b\n",
      "s\n",
      "--------------------------- b\n",
      "c\n",
      "a\n",
      "d\n",
      "s\n",
      "--------------------------- c\n",
      "a\n",
      "b\n",
      "d\n",
      "s\n",
      "--------------------------- d\n",
      "a\n",
      "c\n",
      "b\n",
      "s\n",
      "--------------------------- s\n",
      "a\n",
      "b\n",
      "c\n",
      "d\n"
     ]
    }
   ],
   "source": [
    "for n in g.nodes:\n",
    "    print('---------------------------',n)\n",
    "    for h in g.neighbors(n):\n",
    "        print(h)"
   ]
  },
  {
   "cell_type": "code",
   "execution_count": 18,
   "id": "22864d85",
   "metadata": {},
   "outputs": [
    {
     "data": {
      "text/plain": [
       "False"
      ]
     },
     "execution_count": 18,
     "metadata": {},
     "output_type": "execute_result"
    }
   ],
   "source": [
    "#to chieck graph is tree or not\n",
    "nx.is_tree(g)"
   ]
  },
  {
   "cell_type": "code",
   "execution_count": 19,
   "id": "0a6583a7",
   "metadata": {},
   "outputs": [
    {
     "data": {
      "text/plain": [
       "True"
      ]
     },
     "execution_count": 19,
     "metadata": {},
     "output_type": "execute_result"
    }
   ],
   "source": [
    "nx.is_connected(g)"
   ]
  },
  {
   "cell_type": "code",
   "execution_count": 20,
   "id": "016d253d",
   "metadata": {},
   "outputs": [
    {
     "data": {
      "text/plain": [
       "True"
      ]
     },
     "execution_count": 20,
     "metadata": {},
     "output_type": "execute_result"
    }
   ],
   "source": [
    "# to check graph has a spicific node or not\n",
    "g.has_node('a')"
   ]
  },
  {
   "cell_type": "code",
   "execution_count": 21,
   "id": "575fa4e5",
   "metadata": {},
   "outputs": [
    {
     "data": {
      "text/plain": [
       "False"
      ]
     },
     "execution_count": 21,
     "metadata": {},
     "output_type": "execute_result"
    }
   ],
   "source": [
    "g.has_node('z')"
   ]
  },
  {
   "cell_type": "code",
   "execution_count": 22,
   "id": "b19caf8c",
   "metadata": {},
   "outputs": [
    {
     "data": {
      "text/plain": [
       "True"
      ]
     },
     "execution_count": 22,
     "metadata": {},
     "output_type": "execute_result"
    }
   ],
   "source": [
    "# anther way to check a node in graph nodes or not\n",
    "'a' in g.nodes"
   ]
  },
  {
   "cell_type": "code",
   "execution_count": 23,
   "id": "c0140967",
   "metadata": {},
   "outputs": [
    {
     "data": {
      "text/plain": [
       "<dict_keyiterator at 0x24b5f061ae0>"
      ]
     },
     "execution_count": 23,
     "metadata": {},
     "output_type": "execute_result"
    }
   ],
   "source": [
    "# to get neighbors of node\n",
    "g.neighbors('b')"
   ]
  },
  {
   "cell_type": "code",
   "execution_count": 24,
   "id": "61fd6c01",
   "metadata": {},
   "outputs": [
    {
     "name": "stdout",
     "output_type": "stream",
     "text": [
      "c\n",
      "a\n",
      "d\n",
      "s\n"
     ]
    }
   ],
   "source": [
    "for neighbor in g.neighbors('b'):\n",
    "    print(neighbor)"
   ]
  },
  {
   "cell_type": "code",
   "execution_count": 25,
   "id": "ceed5bc4",
   "metadata": {},
   "outputs": [
    {
     "data": {
      "text/plain": [
       "4"
      ]
     },
     "execution_count": 25,
     "metadata": {},
     "output_type": "execute_result"
    }
   ],
   "source": [
    "# to know degree 'number of neighbors' according a specific node\n",
    "g.degree('a')"
   ]
  },
  {
   "cell_type": "code",
   "execution_count": 26,
   "id": "00257e62",
   "metadata": {},
   "outputs": [
    {
     "data": {
      "text/plain": [
       "[]"
      ]
     },
     "execution_count": 26,
     "metadata": {},
     "output_type": "execute_result"
    }
   ],
   "source": [
    "#Exercise 1\n",
    "def get_leaves(Graph):\n",
    "    result = []\n",
    "    for node in Graph.nodes:\n",
    "        if Graph.degree(node) == 1:\n",
    "            result.append(node)\n",
    "    return result\n",
    "\n",
    "get_leaves(g)"
   ]
  },
  {
   "cell_type": "code",
   "execution_count": 27,
   "id": "05904ec1",
   "metadata": {},
   "outputs": [
    {
     "data": {
      "text/plain": [
       "['SPIDER', 'Y', 'BANANA']"
      ]
     },
     "execution_count": 27,
     "metadata": {},
     "output_type": "execute_result"
    }
   ],
   "source": [
    "# comprehensions\n",
    "items = ['spider', 'y', 'banana']\n",
    "[item.upper() for item in items]"
   ]
  },
  {
   "cell_type": "code",
   "execution_count": 28,
   "id": "063e0f11",
   "metadata": {},
   "outputs": [
    {
     "name": "stdout",
     "output_type": "stream",
     "text": [
      "['a', 'b', 'c', 'd', 's']\n",
      "[4, 4, 4, 4, 4]\n"
     ]
    }
   ],
   "source": [
    "print(g.nodes())\n",
    "print([g.degree(n) for n in g.nodes()])"
   ]
  },
  {
   "cell_type": "code",
   "execution_count": 29,
   "id": "bb23e0de",
   "metadata": {},
   "outputs": [
    {
     "data": {
      "text/plain": [
       "6"
      ]
     },
     "execution_count": 29,
     "metadata": {},
     "output_type": "execute_result"
    }
   ],
   "source": [
    "max(len(item) for item in items)"
   ]
  },
  {
   "cell_type": "code",
   "execution_count": 30,
   "id": "234d18c3",
   "metadata": {},
   "outputs": [
    {
     "data": {
      "text/plain": [
       "['BANANA', 'SPIDER', 'Y']"
      ]
     },
     "execution_count": 30,
     "metadata": {},
     "output_type": "execute_result"
    }
   ],
   "source": [
    "sorted(item.upper() for item in items)"
   ]
  },
  {
   "cell_type": "code",
   "execution_count": 31,
   "id": "83600447",
   "metadata": {},
   "outputs": [
    {
     "data": {
      "image/png": "[encoded data removed]",
      "text/plain": [
       "<Figure size 432x288 with 1 Axes>"
      ]
     },
     "metadata": {},
     "output_type": "display_data"
    }
   ],
   "source": [
    "# Node names\n",
    "G = nx.Graph()\n",
    "\n",
    "G.add_nodes_from(['cat','dog','virus',13])\n",
    "\n",
    "G.add_edge('cat','dog')\n",
    "\n",
    "nx.draw(G, with_labels=True, font_color='white', node_size=1000)"
   ]
  },
  {
   "cell_type": "code",
   "execution_count": 32,
   "id": "c1077b94",
   "metadata": {},
   "outputs": [
    {
     "name": "stdout",
     "output_type": "stream",
     "text": [
      "name : Mustafa Anwer Mohamed Kenawy\n",
      "section : 2\n",
      "\n"
     ]
    }
   ],
   "source": [
    "# NetworkX provides a way to read a graph from an adjacency list\n",
    "print(open('./Mustafa.adjlist').read())"
   ]
  },
  {
   "cell_type": "code",
   "execution_count": 33,
   "id": "310c088d",
   "metadata": {},
   "outputs": [],
   "source": [
    "# create direct graph\n",
    "dG = nx.DiGraph()"
   ]
  },
  {
   "cell_type": "code",
   "execution_count": 34,
   "id": "9c90c317",
   "metadata": {},
   "outputs": [],
   "source": [
    "dG.add_edges_from([(1,2),(2,3),(3,2),(3,4),(3,5),(4,5),(4,6),(5,6),(6,4),(4,2)])"
   ]
  },
  {
   "cell_type": "code",
   "execution_count": 35,
   "id": "57d0d200",
   "metadata": {},
   "outputs": [
    {
     "data": {
      "image/png": "[encoded data removed]",
      "text/plain": [
       "<Figure size 432x288 with 1 Axes>"
      ]
     },
     "metadata": {},
     "output_type": "display_data"
    }
   ],
   "source": [
    "nx.draw(dG, with_labels=True)"
   ]
  },
  {
   "cell_type": "code",
   "execution_count": 36,
   "id": "ea9ce179",
   "metadata": {},
   "outputs": [
    {
     "data": {
      "text/plain": [
       "True"
      ]
     },
     "execution_count": 36,
     "metadata": {},
     "output_type": "execute_result"
    }
   ],
   "source": [
    "dG.has_edge(1,2)"
   ]
  },
  {
   "cell_type": "code",
   "execution_count": 37,
   "id": "dfe70ecb",
   "metadata": {},
   "outputs": [
    {
     "data": {
      "text/plain": [
       "False"
      ]
     },
     "execution_count": 37,
     "metadata": {},
     "output_type": "execute_result"
    }
   ],
   "source": [
    "dG.has_edge(2,1)"
   ]
  },
  {
   "cell_type": "code",
   "execution_count": 38,
   "id": "adf3a942",
   "metadata": {},
   "outputs": [
    {
     "name": "stdout",
     "output_type": "stream",
     "text": [
      "Successors of 2: [3]\n"
     ]
    }
   ],
   "source": [
    "print('Successors of 2:', list(dG.successors(2)))"
   ]
  },
  {
   "cell_type": "code",
   "execution_count": 39,
   "id": "32029082",
   "metadata": {},
   "outputs": [
    {
     "name": "stdout",
     "output_type": "stream",
     "text": [
      "Predecessors of 2: [1, 3, 4]\n"
     ]
    }
   ],
   "source": [
    "print('Predecessors of 2:', list(dG.predecessors(2)))"
   ]
  },
  {
   "cell_type": "code",
   "execution_count": 40,
   "id": "3c274053",
   "metadata": {},
   "outputs": [
    {
     "data": {
      "text/plain": [
       "('a', 4)"
      ]
     },
     "execution_count": 40,
     "metadata": {},
     "output_type": "execute_result"
    }
   ],
   "source": [
    "#Exercise  2\n",
    "def max_degree(Graph):\n",
    "    mx = 0\n",
    "    for node in Graph.nodes:\n",
    "        if Graph.degree(node) > mx:\n",
    "            result = (node,Graph.degree(node))\n",
    "            mx = Graph.degree(node)\n",
    "    return result\n",
    "\n",
    "max_degree(g)"
   ]
  },
  {
   "cell_type": "code",
   "execution_count": 41,
   "id": "5f398126",
   "metadata": {},
   "outputs": [
    {
     "data": {
      "text/plain": [
       "['c', 'd', 's']"
      ]
     },
     "execution_count": 41,
     "metadata": {},
     "output_type": "execute_result"
    }
   ],
   "source": [
    "#Exercise  3\n",
    "def mutual_friends(Graph,n1,n2):\n",
    "    result = []\n",
    "    for node in Graph.nodes:\n",
    "        if node in Graph.neighbors(n1) and node in Graph.neighbors(n2):\n",
    "            result.append(node)\n",
    "            \n",
    "    return result\n",
    "\n",
    "mutual_friends(g,'a','b')"
   ]
  }
 ],
 "metadata": {
  "kernelspec": {
   "display_name": "Python 3 (ipykernel)",
   "language": "python",
   "name": "python3"
  },
  "language_info": {
   "codemirror_mode": {
    "name": "ipython",
    "version": 3
   },
   "file_extension": ".py",
   "mimetype": "text/x-python",
   "name": "python",
   "nbconvert_exporter": "python",
   "pygments_lexer": "ipython3",
   "version": "3.9.7"
  }
 },
 "nbformat": 4,
 "nbformat_minor": 5
}
